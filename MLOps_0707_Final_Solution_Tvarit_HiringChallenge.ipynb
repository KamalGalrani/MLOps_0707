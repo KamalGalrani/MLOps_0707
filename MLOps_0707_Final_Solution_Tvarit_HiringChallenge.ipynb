{
 "cells": [
  {
   "cell_type": "code",
   "execution_count": 1,
   "metadata": {},
   "outputs": [],
   "source": [
    "import numpy as np\n",
    "import pandas as pd\n",
    "import os"
   ]
  },
  {
   "cell_type": "code",
   "execution_count": 2,
   "metadata": {},
   "outputs": [],
   "source": [
    "# os.chdir(\"Desktop\")"
   ]
  },
  {
   "cell_type": "code",
   "execution_count": 3,
   "metadata": {},
   "outputs": [],
   "source": [
    "df = pd.read_csv('data.csv')"
   ]
  },
  {
   "cell_type": "code",
   "execution_count": 4,
   "metadata": {},
   "outputs": [],
   "source": [
    "#Keeping a copy of the original dataframe for reference \n",
    "df_new = df.copy()"
   ]
  },
  {
   "cell_type": "code",
   "execution_count": 5,
   "metadata": {},
   "outputs": [
    {
     "data": {
      "text/html": [
       "<div>\n",
       "<style scoped>\n",
       "    .dataframe tbody tr th:only-of-type {\n",
       "        vertical-align: middle;\n",
       "    }\n",
       "\n",
       "    .dataframe tbody tr th {\n",
       "        vertical-align: top;\n",
       "    }\n",
       "\n",
       "    .dataframe thead th {\n",
       "        text-align: right;\n",
       "    }\n",
       "</style>\n",
       "<table border=\"1\" class=\"dataframe\">\n",
       "  <thead>\n",
       "    <tr style=\"text-align: right;\">\n",
       "      <th></th>\n",
       "      <th>Unnamed: 0</th>\n",
       "      <th>x0_t0</th>\n",
       "      <th>x0_t1</th>\n",
       "      <th>x0_t2</th>\n",
       "      <th>x0_t3</th>\n",
       "      <th>x0_t4</th>\n",
       "      <th>x0_t5</th>\n",
       "      <th>x0_t6</th>\n",
       "      <th>x1_t0</th>\n",
       "      <th>x1_t1</th>\n",
       "      <th>...</th>\n",
       "      <th>x53_t6</th>\n",
       "      <th>x54_t0</th>\n",
       "      <th>x54_t1</th>\n",
       "      <th>x54_t2</th>\n",
       "      <th>x54_t3</th>\n",
       "      <th>x54_t4</th>\n",
       "      <th>x54_t5</th>\n",
       "      <th>x54_t6</th>\n",
       "      <th>y1</th>\n",
       "      <th>y2</th>\n",
       "    </tr>\n",
       "  </thead>\n",
       "  <tbody>\n",
       "    <tr>\n",
       "      <th>0</th>\n",
       "      <td>0</td>\n",
       "      <td>763.134041</td>\n",
       "      <td>768.107435</td>\n",
       "      <td>764.607484</td>\n",
       "      <td>765.236945</td>\n",
       "      <td>765.775778</td>\n",
       "      <td>765.619062</td>\n",
       "      <td>750.95</td>\n",
       "      <td>0.789998</td>\n",
       "      <td>0.801386</td>\n",
       "      <td>...</td>\n",
       "      <td>87.2</td>\n",
       "      <td>2.030000</td>\n",
       "      <td>2.030000</td>\n",
       "      <td>2.030000</td>\n",
       "      <td>2.030000</td>\n",
       "      <td>2.030000</td>\n",
       "      <td>2.03</td>\n",
       "      <td>2.03</td>\n",
       "      <td>0.087</td>\n",
       "      <td>0.58</td>\n",
       "    </tr>\n",
       "    <tr>\n",
       "      <th>1</th>\n",
       "      <td>1</td>\n",
       "      <td>765.446797</td>\n",
       "      <td>763.464843</td>\n",
       "      <td>755.205877</td>\n",
       "      <td>754.690499</td>\n",
       "      <td>762.872823</td>\n",
       "      <td>767.775947</td>\n",
       "      <td>750.95</td>\n",
       "      <td>0.792258</td>\n",
       "      <td>0.807701</td>\n",
       "      <td>...</td>\n",
       "      <td>87.2</td>\n",
       "      <td>2.030000</td>\n",
       "      <td>2.030000</td>\n",
       "      <td>2.030000</td>\n",
       "      <td>2.030000</td>\n",
       "      <td>2.030000</td>\n",
       "      <td>2.03</td>\n",
       "      <td>2.03</td>\n",
       "      <td>0.089</td>\n",
       "      <td>0.59</td>\n",
       "    </tr>\n",
       "    <tr>\n",
       "      <th>2</th>\n",
       "      <td>2</td>\n",
       "      <td>765.973495</td>\n",
       "      <td>768.980362</td>\n",
       "      <td>769.442794</td>\n",
       "      <td>771.473454</td>\n",
       "      <td>774.054794</td>\n",
       "      <td>762.862527</td>\n",
       "      <td>750.95</td>\n",
       "      <td>0.825336</td>\n",
       "      <td>0.795842</td>\n",
       "      <td>...</td>\n",
       "      <td>87.2</td>\n",
       "      <td>2.368016</td>\n",
       "      <td>2.385767</td>\n",
       "      <td>2.432579</td>\n",
       "      <td>2.306701</td>\n",
       "      <td>2.297906</td>\n",
       "      <td>2.03</td>\n",
       "      <td>2.03</td>\n",
       "      <td>0.050</td>\n",
       "      <td>0.44</td>\n",
       "    </tr>\n",
       "    <tr>\n",
       "      <th>3</th>\n",
       "      <td>3</td>\n",
       "      <td>764.650659</td>\n",
       "      <td>765.909540</td>\n",
       "      <td>768.443158</td>\n",
       "      <td>767.678032</td>\n",
       "      <td>767.260418</td>\n",
       "      <td>769.040021</td>\n",
       "      <td>750.95</td>\n",
       "      <td>0.781667</td>\n",
       "      <td>0.788325</td>\n",
       "      <td>...</td>\n",
       "      <td>87.2</td>\n",
       "      <td>2.030000</td>\n",
       "      <td>2.030000</td>\n",
       "      <td>2.030000</td>\n",
       "      <td>2.030000</td>\n",
       "      <td>2.030000</td>\n",
       "      <td>2.03</td>\n",
       "      <td>2.03</td>\n",
       "      <td>0.089</td>\n",
       "      <td>0.44</td>\n",
       "    </tr>\n",
       "    <tr>\n",
       "      <th>4</th>\n",
       "      <td>4</td>\n",
       "      <td>760.405529</td>\n",
       "      <td>766.774665</td>\n",
       "      <td>767.547864</td>\n",
       "      <td>766.582823</td>\n",
       "      <td>765.517300</td>\n",
       "      <td>769.685324</td>\n",
       "      <td>750.95</td>\n",
       "      <td>0.812201</td>\n",
       "      <td>0.825667</td>\n",
       "      <td>...</td>\n",
       "      <td>87.2</td>\n",
       "      <td>2.231677</td>\n",
       "      <td>2.174763</td>\n",
       "      <td>2.351654</td>\n",
       "      <td>2.220314</td>\n",
       "      <td>2.204783</td>\n",
       "      <td>2.03</td>\n",
       "      <td>2.03</td>\n",
       "      <td>0.080</td>\n",
       "      <td>0.59</td>\n",
       "    </tr>\n",
       "  </tbody>\n",
       "</table>\n",
       "<p>5 rows × 388 columns</p>\n",
       "</div>"
      ],
      "text/plain": [
       "   Unnamed: 0       x0_t0       x0_t1       x0_t2       x0_t3       x0_t4  \\\n",
       "0           0  763.134041  768.107435  764.607484  765.236945  765.775778   \n",
       "1           1  765.446797  763.464843  755.205877  754.690499  762.872823   \n",
       "2           2  765.973495  768.980362  769.442794  771.473454  774.054794   \n",
       "3           3  764.650659  765.909540  768.443158  767.678032  767.260418   \n",
       "4           4  760.405529  766.774665  767.547864  766.582823  765.517300   \n",
       "\n",
       "        x0_t5   x0_t6     x1_t0     x1_t1  ...   x53_t6    x54_t0    x54_t1  \\\n",
       "0  765.619062  750.95  0.789998  0.801386  ...     87.2  2.030000  2.030000   \n",
       "1  767.775947  750.95  0.792258  0.807701  ...     87.2  2.030000  2.030000   \n",
       "2  762.862527  750.95  0.825336  0.795842  ...     87.2  2.368016  2.385767   \n",
       "3  769.040021  750.95  0.781667  0.788325  ...     87.2  2.030000  2.030000   \n",
       "4  769.685324  750.95  0.812201  0.825667  ...     87.2  2.231677  2.174763   \n",
       "\n",
       "     x54_t2    x54_t3    x54_t4  x54_t5  x54_t6     y1    y2  \n",
       "0  2.030000  2.030000  2.030000    2.03    2.03  0.087  0.58  \n",
       "1  2.030000  2.030000  2.030000    2.03    2.03  0.089  0.59  \n",
       "2  2.432579  2.306701  2.297906    2.03    2.03  0.050  0.44  \n",
       "3  2.030000  2.030000  2.030000    2.03    2.03  0.089  0.44  \n",
       "4  2.351654  2.220314  2.204783    2.03    2.03  0.080  0.59  \n",
       "\n",
       "[5 rows x 388 columns]"
      ]
     },
     "execution_count": 5,
     "metadata": {},
     "output_type": "execute_result"
    }
   ],
   "source": [
    "#Visualizing the data\n",
    "df.head()"
   ]
  },
  {
   "cell_type": "code",
   "execution_count": 6,
   "metadata": {},
   "outputs": [
    {
     "data": {
      "text/plain": [
       "Series([], dtype: float64)"
      ]
     },
     "execution_count": 6,
     "metadata": {},
     "output_type": "execute_result"
    }
   ],
   "source": [
    "#First let us check for missing values in the dataframe\n",
    "null_columns=df.columns[df.isnull().any()]\n",
    "df[null_columns].isnull().sum()"
   ]
  },
  {
   "cell_type": "code",
   "execution_count": 7,
   "metadata": {},
   "outputs": [],
   "source": [
    "#No missing values found, so no imputation required. "
   ]
  },
  {
   "cell_type": "code",
   "execution_count": 8,
   "metadata": {},
   "outputs": [],
   "source": [
    "#Storing our two target variables\n",
    "y1= df[\"y1\"]\n",
    "y2= df[\"y2\"]"
   ]
  },
  {
   "cell_type": "code",
   "execution_count": 9,
   "metadata": {},
   "outputs": [],
   "source": [
    "#Dropping the necessary columns from the dataframe\n",
    "\n",
    "df.drop([\"y1\",\"y2\"],1,inplace=True) #Dropping the target variables, since we already saved them separately\n",
    "\n",
    "df.drop([\"Unnamed: 0\"],1,inplace=True) #Dropping redundant index column"
   ]
  },
  {
   "cell_type": "code",
   "execution_count": 10,
   "metadata": {},
   "outputs": [],
   "source": [
    "# Let us store the unique features - sensors (x0 to x54)\n",
    "\n",
    "col_series = pd.Series(df.columns)\n",
    "sensors = col_series.apply(lambda x:x.rsplit(\"_\")).str.get(0).unique()"
   ]
  },
  {
   "cell_type": "code",
   "execution_count": 11,
   "metadata": {},
   "outputs": [],
   "source": [
    "#Actual headers with the time tag (t0 to t6) removed\n",
    "headers= col_series.apply(lambda x:x.rsplit(\"_\")).str.get(0)"
   ]
  },
  {
   "cell_type": "code",
   "execution_count": 12,
   "metadata": {},
   "outputs": [
    {
     "data": {
      "text/plain": [
       "0    x0\n",
       "1    x0\n",
       "2    x0\n",
       "3    x0\n",
       "4    x0\n",
       "dtype: object"
      ]
     },
     "execution_count": 12,
     "metadata": {},
     "output_type": "execute_result"
    }
   ],
   "source": [
    "headers[:5]"
   ]
  },
  {
   "cell_type": "code",
   "execution_count": 13,
   "metadata": {},
   "outputs": [],
   "source": [
    "#Now let us get all the actual headers of the data frame\n",
    "list1 = []\n",
    "for x in range(0,len(col_series),7):\n",
    "    list1.append([col_series[x],col_series[x+1],col_series[x+2],col_series[x+3],\n",
    "                  col_series[x+4],col_series[x+5],col_series[x+6]])"
   ]
  },
  {
   "cell_type": "code",
   "execution_count": 14,
   "metadata": {},
   "outputs": [],
   "source": [
    "all_real_headers= list1"
   ]
  },
  {
   "cell_type": "code",
   "execution_count": 15,
   "metadata": {},
   "outputs": [],
   "source": [
    "#Store the batches as our rows variable\n",
    "rows = np.arange(len(list(df.index)))"
   ]
  },
  {
   "cell_type": "code",
   "execution_count": 16,
   "metadata": {},
   "outputs": [],
   "source": [
    "#Create a function that takes as its input a sensor and returns all data for that sensor- all batches and times\n",
    "\n",
    "def time_series(sensor):\n",
    "    s = df[sensor]\n",
    "    list_df= []\n",
    "    for row in rows:\n",
    "        x0 = s.iloc[row].T\n",
    "        list_df.append(x0)\n",
    "    return pd.concat(list_df)"
   ]
  },
  {
   "cell_type": "code",
   "execution_count": 17,
   "metadata": {},
   "outputs": [],
   "source": [
    "# Iterate through all 55 sensors and store the values in their respective headers\n",
    "listers=[]\n",
    "for x in range(0,len(col_series),7):\n",
    "    listers.append(time_series([col_series[x],col_series[x+1],col_series[x+2],col_series[x+3],col_series[x+4],col_series[x+5],col_series[x+6]]))"
   ]
  },
  {
   "cell_type": "code",
   "execution_count": 18,
   "metadata": {},
   "outputs": [
    {
     "data": {
      "text/plain": [
       "x0_t0    763.134041\n",
       "x0_t1    768.107435\n",
       "x0_t2    764.607484\n",
       "x0_t3    765.236945\n",
       "x0_t4    765.775778\n",
       "x0_t5    765.619062\n",
       "x0_t6    750.950000\n",
       "x0_t0    765.446797\n",
       "x0_t1    763.464843\n",
       "x0_t2    755.205877\n",
       "x0_t3    754.690499\n",
       "x0_t4    762.872823\n",
       "x0_t5    767.775947\n",
       "x0_t6    750.950000\n",
       "x0_t0    765.973495\n",
       "x0_t1    768.980362\n",
       "x0_t2    769.442794\n",
       "x0_t3    771.473454\n",
       "x0_t4    774.054794\n",
       "x0_t5    762.862527\n",
       "x0_t6    750.950000\n",
       "x0_t0    764.650659\n",
       "x0_t1    765.909540\n",
       "x0_t2    768.443158\n",
       "x0_t3    767.678032\n",
       "x0_t4    767.260418\n",
       "x0_t5    769.040021\n",
       "x0_t6    750.950000\n",
       "x0_t0    760.405529\n",
       "x0_t1    766.774665\n",
       "            ...    \n",
       "x0_t5    750.855744\n",
       "x0_t6    750.950000\n",
       "x0_t0    752.755783\n",
       "x0_t1    752.484435\n",
       "x0_t2    744.772873\n",
       "x0_t3    756.993609\n",
       "x0_t4    761.817725\n",
       "x0_t5    747.048507\n",
       "x0_t6    750.950000\n",
       "x0_t0    749.662068\n",
       "x0_t1    745.642215\n",
       "x0_t2    745.705766\n",
       "x0_t3    745.962520\n",
       "x0_t4    747.266960\n",
       "x0_t5    743.441518\n",
       "x0_t6    748.291985\n",
       "x0_t0    743.475161\n",
       "x0_t1    748.555371\n",
       "x0_t2    746.904789\n",
       "x0_t3    747.308602\n",
       "x0_t4    746.511222\n",
       "x0_t5    746.071126\n",
       "x0_t6    750.950000\n",
       "x0_t0    746.092202\n",
       "x0_t1    746.712537\n",
       "x0_t2    743.807355\n",
       "x0_t3    748.266661\n",
       "x0_t4    747.031621\n",
       "x0_t5    747.080318\n",
       "x0_t6    746.187059\n",
       "Length: 6181, dtype: float64"
      ]
     },
     "execution_count": 18,
     "metadata": {},
     "output_type": "execute_result"
    }
   ],
   "source": [
    "listers[0]"
   ]
  },
  {
   "cell_type": "code",
   "execution_count": null,
   "metadata": {},
   "outputs": [],
   "source": []
  },
  {
   "cell_type": "code",
   "execution_count": 19,
   "metadata": {},
   "outputs": [],
   "source": [
    "#Create an empty dataframe\n",
    "processedDf = pd.DataFrame()"
   ]
  },
  {
   "cell_type": "code",
   "execution_count": 20,
   "metadata": {},
   "outputs": [],
   "source": [
    "for x in range(0,len(sensors)):\n",
    "    processedDf[sensors[x]] = listers[x].values"
   ]
  },
  {
   "cell_type": "code",
   "execution_count": 21,
   "metadata": {},
   "outputs": [
    {
     "data": {
      "text/html": [
       "<div>\n",
       "<style scoped>\n",
       "    .dataframe tbody tr th:only-of-type {\n",
       "        vertical-align: middle;\n",
       "    }\n",
       "\n",
       "    .dataframe tbody tr th {\n",
       "        vertical-align: top;\n",
       "    }\n",
       "\n",
       "    .dataframe thead th {\n",
       "        text-align: right;\n",
       "    }\n",
       "</style>\n",
       "<table border=\"1\" class=\"dataframe\">\n",
       "  <thead>\n",
       "    <tr style=\"text-align: right;\">\n",
       "      <th></th>\n",
       "      <th>x0</th>\n",
       "      <th>x1</th>\n",
       "      <th>x2</th>\n",
       "      <th>x3</th>\n",
       "      <th>x4</th>\n",
       "      <th>x5</th>\n",
       "      <th>x6</th>\n",
       "      <th>x7</th>\n",
       "      <th>x8</th>\n",
       "      <th>x9</th>\n",
       "      <th>...</th>\n",
       "      <th>x45</th>\n",
       "      <th>x46</th>\n",
       "      <th>x47</th>\n",
       "      <th>x48</th>\n",
       "      <th>x49</th>\n",
       "      <th>x50</th>\n",
       "      <th>x51</th>\n",
       "      <th>x52</th>\n",
       "      <th>x53</th>\n",
       "      <th>x54</th>\n",
       "    </tr>\n",
       "  </thead>\n",
       "  <tbody>\n",
       "    <tr>\n",
       "      <th>0</th>\n",
       "      <td>763.134041</td>\n",
       "      <td>0.789998</td>\n",
       "      <td>1</td>\n",
       "      <td>22.132677</td>\n",
       "      <td>6.7</td>\n",
       "      <td>765.972043</td>\n",
       "      <td>841.0</td>\n",
       "      <td>829.099976</td>\n",
       "      <td>4.4</td>\n",
       "      <td>0.326108</td>\n",
       "      <td>...</td>\n",
       "      <td>0</td>\n",
       "      <td>89.77</td>\n",
       "      <td>0.5</td>\n",
       "      <td>698.35</td>\n",
       "      <td>140.75</td>\n",
       "      <td>14.62</td>\n",
       "      <td>866.57</td>\n",
       "      <td>659.85</td>\n",
       "      <td>87.2</td>\n",
       "      <td>2.03</td>\n",
       "    </tr>\n",
       "    <tr>\n",
       "      <th>1</th>\n",
       "      <td>768.107435</td>\n",
       "      <td>0.801386</td>\n",
       "      <td>1</td>\n",
       "      <td>22.068269</td>\n",
       "      <td>6.7</td>\n",
       "      <td>764.606257</td>\n",
       "      <td>841.0</td>\n",
       "      <td>829.099976</td>\n",
       "      <td>4.4</td>\n",
       "      <td>0.322163</td>\n",
       "      <td>...</td>\n",
       "      <td>0</td>\n",
       "      <td>89.77</td>\n",
       "      <td>0.5</td>\n",
       "      <td>698.35</td>\n",
       "      <td>140.75</td>\n",
       "      <td>14.62</td>\n",
       "      <td>866.57</td>\n",
       "      <td>659.85</td>\n",
       "      <td>87.2</td>\n",
       "      <td>2.03</td>\n",
       "    </tr>\n",
       "    <tr>\n",
       "      <th>2</th>\n",
       "      <td>764.607484</td>\n",
       "      <td>0.788737</td>\n",
       "      <td>1</td>\n",
       "      <td>21.815364</td>\n",
       "      <td>6.7</td>\n",
       "      <td>768.211539</td>\n",
       "      <td>841.0</td>\n",
       "      <td>829.099976</td>\n",
       "      <td>4.4</td>\n",
       "      <td>0.280555</td>\n",
       "      <td>...</td>\n",
       "      <td>0</td>\n",
       "      <td>89.77</td>\n",
       "      <td>0.5</td>\n",
       "      <td>698.35</td>\n",
       "      <td>140.75</td>\n",
       "      <td>14.62</td>\n",
       "      <td>866.57</td>\n",
       "      <td>659.85</td>\n",
       "      <td>87.2</td>\n",
       "      <td>2.03</td>\n",
       "    </tr>\n",
       "    <tr>\n",
       "      <th>3</th>\n",
       "      <td>765.236945</td>\n",
       "      <td>0.786225</td>\n",
       "      <td>1</td>\n",
       "      <td>21.967800</td>\n",
       "      <td>6.7</td>\n",
       "      <td>762.067313</td>\n",
       "      <td>841.0</td>\n",
       "      <td>829.099976</td>\n",
       "      <td>4.4</td>\n",
       "      <td>0.333311</td>\n",
       "      <td>...</td>\n",
       "      <td>0</td>\n",
       "      <td>89.77</td>\n",
       "      <td>0.5</td>\n",
       "      <td>698.35</td>\n",
       "      <td>140.75</td>\n",
       "      <td>14.62</td>\n",
       "      <td>866.57</td>\n",
       "      <td>659.85</td>\n",
       "      <td>87.2</td>\n",
       "      <td>2.03</td>\n",
       "    </tr>\n",
       "    <tr>\n",
       "      <th>4</th>\n",
       "      <td>765.775778</td>\n",
       "      <td>0.798978</td>\n",
       "      <td>1</td>\n",
       "      <td>21.988524</td>\n",
       "      <td>6.7</td>\n",
       "      <td>762.628059</td>\n",
       "      <td>841.0</td>\n",
       "      <td>829.099976</td>\n",
       "      <td>4.4</td>\n",
       "      <td>0.279611</td>\n",
       "      <td>...</td>\n",
       "      <td>0</td>\n",
       "      <td>89.77</td>\n",
       "      <td>0.5</td>\n",
       "      <td>698.35</td>\n",
       "      <td>140.75</td>\n",
       "      <td>14.62</td>\n",
       "      <td>866.57</td>\n",
       "      <td>659.85</td>\n",
       "      <td>87.2</td>\n",
       "      <td>2.03</td>\n",
       "    </tr>\n",
       "  </tbody>\n",
       "</table>\n",
       "<p>5 rows × 55 columns</p>\n",
       "</div>"
      ],
      "text/plain": [
       "           x0        x1  x2         x3   x4          x5     x6          x7  \\\n",
       "0  763.134041  0.789998   1  22.132677  6.7  765.972043  841.0  829.099976   \n",
       "1  768.107435  0.801386   1  22.068269  6.7  764.606257  841.0  829.099976   \n",
       "2  764.607484  0.788737   1  21.815364  6.7  768.211539  841.0  829.099976   \n",
       "3  765.236945  0.786225   1  21.967800  6.7  762.067313  841.0  829.099976   \n",
       "4  765.775778  0.798978   1  21.988524  6.7  762.628059  841.0  829.099976   \n",
       "\n",
       "    x8        x9  ...   x45    x46  x47     x48     x49    x50     x51  \\\n",
       "0  4.4  0.326108  ...     0  89.77  0.5  698.35  140.75  14.62  866.57   \n",
       "1  4.4  0.322163  ...     0  89.77  0.5  698.35  140.75  14.62  866.57   \n",
       "2  4.4  0.280555  ...     0  89.77  0.5  698.35  140.75  14.62  866.57   \n",
       "3  4.4  0.333311  ...     0  89.77  0.5  698.35  140.75  14.62  866.57   \n",
       "4  4.4  0.279611  ...     0  89.77  0.5  698.35  140.75  14.62  866.57   \n",
       "\n",
       "      x52   x53   x54  \n",
       "0  659.85  87.2  2.03  \n",
       "1  659.85  87.2  2.03  \n",
       "2  659.85  87.2  2.03  \n",
       "3  659.85  87.2  2.03  \n",
       "4  659.85  87.2  2.03  \n",
       "\n",
       "[5 rows x 55 columns]"
      ]
     },
     "execution_count": 21,
     "metadata": {},
     "output_type": "execute_result"
    }
   ],
   "source": [
    "#We have now converted our original dataframe into a time series dataset- where the time variable is in the index\n",
    "processedDf.head()"
   ]
  },
  {
   "cell_type": "code",
   "execution_count": null,
   "metadata": {},
   "outputs": [],
   "source": []
  },
  {
   "cell_type": "code",
   "execution_count": 22,
   "metadata": {},
   "outputs": [],
   "source": [
    "#Converting our target variables\n",
    "y1_new = pd.DataFrame()\n",
    "list2 = []\n",
    "for x in range(0,len(y1)):\n",
    "    list2.append(y1[x])\n",
    "    list2.append(y1[x])\n",
    "    list2.append(y1[x])\n",
    "    list2.append(y1[x])\n",
    "    list2.append(y1[x])\n",
    "    list2.append(y1[x])\n",
    "    list2.append(y1[x])\n",
    "y1_new = pd.Series( (v for v in list2) )"
   ]
  },
  {
   "cell_type": "code",
   "execution_count": 23,
   "metadata": {},
   "outputs": [],
   "source": [
    "y2_new = pd.DataFrame()\n",
    "\n",
    "list2 = []\n",
    "for x in range(0,len(y2)):\n",
    "    list2.append(y2[x])\n",
    "    list2.append(y2[x])\n",
    "    list2.append(y2[x])\n",
    "    list2.append(y2[x])\n",
    "    list2.append(y2[x])\n",
    "    list2.append(y2[x])\n",
    "    list2.append(y2[x])\n",
    "\n",
    "y2_new = pd.Series( (v for v in list2) )"
   ]
  },
  {
   "cell_type": "code",
   "execution_count": 24,
   "metadata": {},
   "outputs": [],
   "source": [
    "#This concludes our preprocessing\n",
    "#We now have our preprocessed feature matrix as well as our target variables"
   ]
  },
  {
   "cell_type": "code",
   "execution_count": 25,
   "metadata": {},
   "outputs": [],
   "source": [
    "#Task 1: Achieve R2 score higher than 0.5 for label y1. You can shuffle the data while train-test splitting."
   ]
  },
  {
   "cell_type": "code",
   "execution_count": 26,
   "metadata": {},
   "outputs": [],
   "source": [
    "#Split the data into train and test sets\n",
    "\n",
    "from sklearn.model_selection import train_test_split as tts\n",
    "X_train, X_test, y_train, y_test = tts(processedDf, y1_new,test_size= 0.05, random_state=42)"
   ]
  },
  {
   "cell_type": "code",
   "execution_count": 27,
   "metadata": {},
   "outputs": [],
   "source": [
    "#We will try linear regression, support vector machines, random forest and XGBoost algorithms"
   ]
  },
  {
   "cell_type": "code",
   "execution_count": 28,
   "metadata": {},
   "outputs": [],
   "source": [
    "#Linear Regression\n",
    "\n",
    "from sklearn.linear_model import LinearRegression\n",
    "lreg = LinearRegression()"
   ]
  },
  {
   "cell_type": "code",
   "execution_count": 29,
   "metadata": {},
   "outputs": [
    {
     "data": {
      "text/plain": [
       "LinearRegression(copy_X=True, fit_intercept=True, n_jobs=1, normalize=False)"
      ]
     },
     "execution_count": 29,
     "metadata": {},
     "output_type": "execute_result"
    }
   ],
   "source": [
    "lreg.fit(X_train, y_train)"
   ]
  },
  {
   "cell_type": "code",
   "execution_count": 30,
   "metadata": {},
   "outputs": [],
   "source": [
    "lreg_pred= lreg.predict(X_test)"
   ]
  },
  {
   "cell_type": "code",
   "execution_count": 31,
   "metadata": {},
   "outputs": [],
   "source": [
    "from sklearn.metrics import r2_score"
   ]
  },
  {
   "cell_type": "code",
   "execution_count": 32,
   "metadata": {},
   "outputs": [
    {
     "data": {
      "text/plain": [
       "0.2694057413949932"
      ]
     },
     "execution_count": 32,
     "metadata": {},
     "output_type": "execute_result"
    }
   ],
   "source": [
    "r2_score(y_test, lreg_pred) "
   ]
  },
  {
   "cell_type": "code",
   "execution_count": 33,
   "metadata": {},
   "outputs": [],
   "source": [
    "#0.27 r2 score accuracy with linear regression"
   ]
  },
  {
   "cell_type": "code",
   "execution_count": 34,
   "metadata": {},
   "outputs": [],
   "source": [
    "from sklearn.svm import SVR"
   ]
  },
  {
   "cell_type": "code",
   "execution_count": 35,
   "metadata": {},
   "outputs": [],
   "source": [
    "svr= SVR()"
   ]
  },
  {
   "cell_type": "code",
   "execution_count": 36,
   "metadata": {},
   "outputs": [
    {
     "data": {
      "text/plain": [
       "SVR(C=1.0, cache_size=200, coef0=0.0, degree=3, epsilon=0.1, gamma='auto',\n",
       "  kernel='rbf', max_iter=-1, shrinking=True, tol=0.001, verbose=False)"
      ]
     },
     "execution_count": 36,
     "metadata": {},
     "output_type": "execute_result"
    }
   ],
   "source": [
    "svr.fit(X_train, y_train)"
   ]
  },
  {
   "cell_type": "code",
   "execution_count": 37,
   "metadata": {},
   "outputs": [],
   "source": [
    "svr_pred= svr.predict(X_test)"
   ]
  },
  {
   "cell_type": "code",
   "execution_count": 38,
   "metadata": {},
   "outputs": [
    {
     "data": {
      "text/plain": [
       "-0.4266905879581695"
      ]
     },
     "execution_count": 38,
     "metadata": {},
     "output_type": "execute_result"
    }
   ],
   "source": [
    "r2_score(y_test, svr_pred)"
   ]
  },
  {
   "cell_type": "code",
   "execution_count": 39,
   "metadata": {},
   "outputs": [],
   "source": [
    "#Negative values so this model is not compatible"
   ]
  },
  {
   "cell_type": "code",
   "execution_count": 40,
   "metadata": {},
   "outputs": [],
   "source": [
    "#XGBoost\n",
    "\n",
    "from xgboost import XGBRegressor"
   ]
  },
  {
   "cell_type": "code",
   "execution_count": 41,
   "metadata": {},
   "outputs": [],
   "source": [
    "xgb= XGBRegressor()"
   ]
  },
  {
   "cell_type": "code",
   "execution_count": 42,
   "metadata": {},
   "outputs": [
    {
     "data": {
      "text/plain": [
       "XGBRegressor(base_score=0.5, booster='gbtree', colsample_bylevel=1,\n",
       "       colsample_bytree=1, gamma=0, learning_rate=0.1, max_delta_step=0,\n",
       "       max_depth=3, min_child_weight=1, missing=None, n_estimators=100,\n",
       "       n_jobs=1, nthread=None, objective='reg:linear', random_state=0,\n",
       "       reg_alpha=0, reg_lambda=1, scale_pos_weight=1, seed=None,\n",
       "       silent=True, subsample=1)"
      ]
     },
     "execution_count": 42,
     "metadata": {},
     "output_type": "execute_result"
    }
   ],
   "source": [
    "xgb.fit(X_train, y_train)"
   ]
  },
  {
   "cell_type": "code",
   "execution_count": 43,
   "metadata": {},
   "outputs": [],
   "source": [
    "xgb_pred= xgb.predict(X_test)"
   ]
  },
  {
   "cell_type": "code",
   "execution_count": 44,
   "metadata": {},
   "outputs": [
    {
     "data": {
      "text/plain": [
       "0.4996101029105142"
      ]
     },
     "execution_count": 44,
     "metadata": {},
     "output_type": "execute_result"
    }
   ],
   "source": [
    "r2_score(y_test,xgb_pred)"
   ]
  },
  {
   "cell_type": "code",
   "execution_count": 45,
   "metadata": {},
   "outputs": [],
   "source": [
    "#0.5 r2 score with XGBoost. However we are aiming for higher than this."
   ]
  },
  {
   "cell_type": "code",
   "execution_count": 66,
   "metadata": {},
   "outputs": [],
   "source": [
    "#Random Forest Regressor\n",
    "\n",
    "from sklearn.ensemble import RandomForestRegressor\n",
    "rf= RandomForestRegressor(n_estimators=50,min_samples_split=5,random_state=1)"
   ]
  },
  {
   "cell_type": "code",
   "execution_count": 67,
   "metadata": {},
   "outputs": [
    {
     "data": {
      "text/plain": [
       "RandomForestRegressor(bootstrap=True, criterion='mse', max_depth=None,\n",
       "           max_features='auto', max_leaf_nodes=None,\n",
       "           min_impurity_decrease=0.0, min_impurity_split=None,\n",
       "           min_samples_leaf=1, min_samples_split=5,\n",
       "           min_weight_fraction_leaf=0.0, n_estimators=50, n_jobs=1,\n",
       "           oob_score=False, random_state=1, verbose=0, warm_start=False)"
      ]
     },
     "execution_count": 67,
     "metadata": {},
     "output_type": "execute_result"
    }
   ],
   "source": [
    "rf.fit(X_train, y_train)"
   ]
  },
  {
   "cell_type": "code",
   "execution_count": 68,
   "metadata": {},
   "outputs": [],
   "source": [
    "rf_pred= rf.predict(X_test)"
   ]
  },
  {
   "cell_type": "code",
   "execution_count": 69,
   "metadata": {},
   "outputs": [
    {
     "data": {
      "text/plain": [
       "0.6676067198792742"
      ]
     },
     "execution_count": 69,
     "metadata": {},
     "output_type": "execute_result"
    }
   ],
   "source": [
    "r2_score(y_test, rf_pred)"
   ]
  },
  {
   "cell_type": "code",
   "execution_count": 55,
   "metadata": {},
   "outputs": [],
   "source": [
    "#Random Forest provides us with the highest r2 so far- 0.66"
   ]
  },
  {
   "cell_type": "code",
   "execution_count": 56,
   "metadata": {},
   "outputs": [],
   "source": [
    "#Let us try to improve upon our random forest by feature selection"
   ]
  },
  {
   "cell_type": "code",
   "execution_count": 70,
   "metadata": {},
   "outputs": [],
   "source": [
    "#Finding the important features\n",
    "\n",
    "importances_rf = pd.Series(rf.feature_importances_,\n",
    "                          index = X_train.columns)\n",
    "sorted_importances = importances_rf.sort_values(ascending=False)\n",
    "new_features= sorted_importances.head(20)"
   ]
  },
  {
   "cell_type": "code",
   "execution_count": 71,
   "metadata": {
    "scrolled": true
   },
   "outputs": [
    {
     "data": {
      "text/plain": [
       "x35    0.192565\n",
       "x11    0.077788\n",
       "x7     0.076969\n",
       "x12    0.070226\n",
       "x1     0.068910\n",
       "x14    0.053778\n",
       "x8     0.043891\n",
       "x5     0.032232\n",
       "x10    0.028744\n",
       "x13    0.027155\n",
       "x3     0.020508\n",
       "x50    0.019410\n",
       "x0     0.018340\n",
       "x9     0.018161\n",
       "x30    0.017959\n",
       "x52    0.016147\n",
       "x4     0.014924\n",
       "x46    0.013883\n",
       "x6     0.013516\n",
       "x33    0.013337\n",
       "dtype: float64"
      ]
     },
     "execution_count": 71,
     "metadata": {},
     "output_type": "execute_result"
    }
   ],
   "source": [
    "new_features"
   ]
  },
  {
   "cell_type": "code",
   "execution_count": 72,
   "metadata": {},
   "outputs": [],
   "source": [
    "#Now let us retrain our model using only these top 20 features that have the highest importance\n",
    "#If it improves results, we will condense the feature matrix to these 20 features only."
   ]
  },
  {
   "cell_type": "code",
   "execution_count": 73,
   "metadata": {},
   "outputs": [
    {
     "data": {
      "text/plain": [
       "0.6923289890743989"
      ]
     },
     "execution_count": 73,
     "metadata": {},
     "output_type": "execute_result"
    }
   ],
   "source": [
    "rf= RandomForestRegressor(n_estimators=50,min_samples_split=5,random_state=1)\n",
    "rf.fit(X_train[new_features.index], y_train)\n",
    "y_rf= rf.predict(X_test[new_features.index])\n",
    "r2_score(y_test, y_rf)"
   ]
  },
  {
   "cell_type": "code",
   "execution_count": 74,
   "metadata": {},
   "outputs": [],
   "source": [
    "#We see a small improvement in the model using just the top 20 features."
   ]
  },
  {
   "cell_type": "code",
   "execution_count": 75,
   "metadata": {},
   "outputs": [],
   "source": [
    "#Let us also try to see if our XGBoost model improves with a smaller set of features"
   ]
  },
  {
   "cell_type": "code",
   "execution_count": 76,
   "metadata": {},
   "outputs": [
    {
     "data": {
      "text/plain": [
       "0.49331562019942143"
      ]
     },
     "execution_count": 76,
     "metadata": {},
     "output_type": "execute_result"
    }
   ],
   "source": [
    "xgb= XGBRegressor()\n",
    "xgb.fit(X_train[new_features.index], y_train)\n",
    "y_xgb= xgb.predict(X_test[new_features.index])\n",
    "r2_score(y_test, y_xgb)"
   ]
  },
  {
   "cell_type": "code",
   "execution_count": 77,
   "metadata": {},
   "outputs": [],
   "source": [
    "#Our XGBoost does not improve. Random forest still has the highest r2 score with 0.68."
   ]
  },
  {
   "cell_type": "code",
   "execution_count": 78,
   "metadata": {},
   "outputs": [],
   "source": [
    "#Therefore for Task 1 our final solution is a Random Forest Regressor trained on 20/55 of the original features"
   ]
  },
  {
   "cell_type": "code",
   "execution_count": 79,
   "metadata": {},
   "outputs": [],
   "source": [
    "#Task 2: Achieve the highest possible R2 score for label y1. \n",
    "#You can NOT shuffle the data while train-test splitting."
   ]
  },
  {
   "cell_type": "code",
   "execution_count": 80,
   "metadata": {},
   "outputs": [],
   "source": [
    "#We will use our random forest regressor except this time, we will preserve the order of our original dataset"
   ]
  },
  {
   "cell_type": "code",
   "execution_count": 81,
   "metadata": {},
   "outputs": [],
   "source": [
    "X_train, X_test, y_train, y_test = tts(processedDf, y1_new, test_size=0.05, random_state=0)"
   ]
  },
  {
   "cell_type": "code",
   "execution_count": 104,
   "metadata": {},
   "outputs": [
    {
     "data": {
      "text/plain": [
       "RandomForestRegressor(bootstrap=True, criterion='mse', max_depth=None,\n",
       "           max_features='auto', max_leaf_nodes=None,\n",
       "           min_impurity_decrease=0.0, min_impurity_split=None,\n",
       "           min_samples_leaf=1, min_samples_split=5,\n",
       "           min_weight_fraction_leaf=0.0, n_estimators=100, n_jobs=1,\n",
       "           oob_score=False, random_state=0, verbose=0, warm_start=False)"
      ]
     },
     "execution_count": 104,
     "metadata": {},
     "output_type": "execute_result"
    }
   ],
   "source": [
    "rf= RandomForestRegressor(n_estimators=100,min_samples_split=5,random_state=0)\n",
    "rf.fit(X_train, y_train)"
   ]
  },
  {
   "cell_type": "code",
   "execution_count": 105,
   "metadata": {},
   "outputs": [],
   "source": [
    "y_pred_rf= rf.predict(X_test)"
   ]
  },
  {
   "cell_type": "code",
   "execution_count": 106,
   "metadata": {
    "scrolled": true
   },
   "outputs": [
    {
     "data": {
      "text/plain": [
       "0.5631211055863359"
      ]
     },
     "execution_count": 106,
     "metadata": {},
     "output_type": "execute_result"
    }
   ],
   "source": [
    "r2_score(y_test, y_pred_rf)"
   ]
  },
  {
   "cell_type": "code",
   "execution_count": 107,
   "metadata": {},
   "outputs": [],
   "source": [
    "#Random Forest gives us 0.56 r2 score on the full dataset. Now lets try with only the top 20 features"
   ]
  },
  {
   "cell_type": "code",
   "execution_count": 108,
   "metadata": {},
   "outputs": [],
   "source": [
    "importances_rf = pd.Series(rf.feature_importances_,\n",
    "                          index = X_train.columns)\n",
    "sorted_importances = importances_rf.sort_values(ascending=False)\n",
    "new_features= sorted_importances.head(20)"
   ]
  },
  {
   "cell_type": "code",
   "execution_count": 109,
   "metadata": {
    "scrolled": true
   },
   "outputs": [
    {
     "data": {
      "text/plain": [
       "0.5903553120191563"
      ]
     },
     "execution_count": 109,
     "metadata": {},
     "output_type": "execute_result"
    }
   ],
   "source": [
    "rf= RandomForestRegressor(n_estimators=100,min_samples_split=5,random_state=0)\n",
    "rf.fit(X_train[new_features.index], y_train)\n",
    "y_rf= rf.predict(X_test[new_features.index])\n",
    "r2_score(y_test, y_rf)"
   ]
  },
  {
   "cell_type": "code",
   "execution_count": 110,
   "metadata": {},
   "outputs": [],
   "source": [
    "#Using the feature subset gives us an r2 score of 0.6- small improvement. "
   ]
  },
  {
   "cell_type": "code",
   "execution_count": 111,
   "metadata": {
    "scrolled": true
   },
   "outputs": [
    {
     "data": {
      "text/plain": [
       "XGBRegressor(base_score=0.5, booster='gbtree', colsample_bylevel=1,\n",
       "       colsample_bytree=1, gamma=0, learning_rate=0.1, max_delta_step=0,\n",
       "       max_depth=3, min_child_weight=1, missing=None, n_estimators=100,\n",
       "       n_jobs=1, nthread=None, objective='reg:linear', random_state=0,\n",
       "       reg_alpha=0, reg_lambda=1, scale_pos_weight=1, seed=None,\n",
       "       silent=True, subsample=1)"
      ]
     },
     "execution_count": 111,
     "metadata": {},
     "output_type": "execute_result"
    }
   ],
   "source": [
    "#Let us also try with XGBoost to see if preserving the dataset order improves r2 when modelling\n",
    "xgb.fit(X_train, y_train)"
   ]
  },
  {
   "cell_type": "code",
   "execution_count": 112,
   "metadata": {},
   "outputs": [],
   "source": [
    "xg_pred= xgb.predict(X_test)"
   ]
  },
  {
   "cell_type": "code",
   "execution_count": 113,
   "metadata": {},
   "outputs": [
    {
     "data": {
      "text/plain": [
       "0.3896576327388569"
      ]
     },
     "execution_count": 113,
     "metadata": {},
     "output_type": "execute_result"
    }
   ],
   "source": [
    "r2_score(y_test, xg_pred)"
   ]
  },
  {
   "cell_type": "code",
   "execution_count": 114,
   "metadata": {},
   "outputs": [],
   "source": [
    "#0.39 score- so random forest is still much higher\n",
    "#Therefore for Task 2 our Random Forest Regressor on a subset of 20 features gives us an r2 of 0.6"
   ]
  },
  {
   "cell_type": "code",
   "execution_count": 115,
   "metadata": {},
   "outputs": [],
   "source": [
    "#Task 3: Achieve the highest possible R2 score for label y2. \n",
    "#You can NOT shuffle the data while train-test splitting."
   ]
  },
  {
   "cell_type": "code",
   "execution_count": 116,
   "metadata": {},
   "outputs": [],
   "source": [
    "#Train test split with the new output variable y2\n",
    "X_train, X_test, y_train, y_test = tts(processedDf, y2_new, test_size=0.05, random_state=0)"
   ]
  },
  {
   "cell_type": "code",
   "execution_count": 117,
   "metadata": {},
   "outputs": [
    {
     "data": {
      "text/plain": [
       "RandomForestRegressor(bootstrap=True, criterion='mse', max_depth=None,\n",
       "           max_features='auto', max_leaf_nodes=None,\n",
       "           min_impurity_decrease=0.0, min_impurity_split=None,\n",
       "           min_samples_leaf=1, min_samples_split=5,\n",
       "           min_weight_fraction_leaf=0.0, n_estimators=100, n_jobs=1,\n",
       "           oob_score=False, random_state=0, verbose=0, warm_start=False)"
      ]
     },
     "execution_count": 117,
     "metadata": {},
     "output_type": "execute_result"
    }
   ],
   "source": [
    "#Lets begin with random forest \n",
    "rf= RandomForestRegressor(n_estimators=100,min_samples_split=5,random_state=0)\n",
    "rf.fit(X_train, y_train)"
   ]
  },
  {
   "cell_type": "code",
   "execution_count": 118,
   "metadata": {},
   "outputs": [],
   "source": [
    "y_rf= rf.predict(X_test)"
   ]
  },
  {
   "cell_type": "code",
   "execution_count": 119,
   "metadata": {},
   "outputs": [
    {
     "data": {
      "text/plain": [
       "0.7153724210489585"
      ]
     },
     "execution_count": 119,
     "metadata": {},
     "output_type": "execute_result"
    }
   ],
   "source": [
    "r2_score(y_test, y_rf)"
   ]
  },
  {
   "cell_type": "code",
   "execution_count": 120,
   "metadata": {},
   "outputs": [],
   "source": [
    "#0.7 r2 score achieved with Random forest. Let us now try the feature selection approach here too. "
   ]
  },
  {
   "cell_type": "code",
   "execution_count": 121,
   "metadata": {},
   "outputs": [],
   "source": [
    "importances_rf = pd.Series(rf.feature_importances_,\n",
    "                          index = X_train.columns)\n",
    "sorted_importances = importances_rf.sort_values(ascending=False)\n",
    "new_features= sorted_importances.head(20)"
   ]
  },
  {
   "cell_type": "code",
   "execution_count": 123,
   "metadata": {},
   "outputs": [
    {
     "data": {
      "text/plain": [
       "0.7233042142512311"
      ]
     },
     "execution_count": 123,
     "metadata": {},
     "output_type": "execute_result"
    }
   ],
   "source": [
    "rf= RandomForestRegressor(n_estimators=100,min_samples_split=5,random_state=0)\n",
    "rf.fit(X_train[new_features.index], y_train)\n",
    "y_rf= rf.predict(X_test[new_features.index])\n",
    "r2_score(y_test, y_rf)"
   ]
  },
  {
   "cell_type": "code",
   "execution_count": 124,
   "metadata": {},
   "outputs": [],
   "source": [
    "#Minor improvement in the r2 score with selecting only the most important 20 features. "
   ]
  },
  {
   "cell_type": "code",
   "execution_count": 125,
   "metadata": {
    "scrolled": true
   },
   "outputs": [
    {
     "data": {
      "text/plain": [
       "XGBRegressor(base_score=0.5, booster='gbtree', colsample_bylevel=1,\n",
       "       colsample_bytree=1, gamma=0, learning_rate=0.1, max_delta_step=0,\n",
       "       max_depth=3, min_child_weight=1, missing=None, n_estimators=100,\n",
       "       n_jobs=1, nthread=None, objective='reg:linear', random_state=0,\n",
       "       reg_alpha=0, reg_lambda=1, scale_pos_weight=1, seed=None,\n",
       "       silent=True, subsample=1)"
      ]
     },
     "execution_count": 125,
     "metadata": {},
     "output_type": "execute_result"
    }
   ],
   "source": [
    "xgb.fit(X_train, y_train)"
   ]
  },
  {
   "cell_type": "code",
   "execution_count": 126,
   "metadata": {},
   "outputs": [],
   "source": [
    "xg_pred= xgb.predict(X_test)"
   ]
  },
  {
   "cell_type": "code",
   "execution_count": 127,
   "metadata": {},
   "outputs": [
    {
     "data": {
      "text/plain": [
       "0.5203801675224408"
      ]
     },
     "execution_count": 127,
     "metadata": {},
     "output_type": "execute_result"
    }
   ],
   "source": [
    "r2_score(y_test, xg_pred)"
   ]
  },
  {
   "cell_type": "code",
   "execution_count": 128,
   "metadata": {},
   "outputs": [],
   "source": [
    "#Let us see if using only the most important features improves our XGBoost model"
   ]
  },
  {
   "cell_type": "code",
   "execution_count": 129,
   "metadata": {},
   "outputs": [
    {
     "data": {
      "text/plain": [
       "0.5748832760391441"
      ]
     },
     "execution_count": 129,
     "metadata": {},
     "output_type": "execute_result"
    }
   ],
   "source": [
    "xgb= XGBRegressor()\n",
    "xgb.fit(X_train[new_features.index], y_train)\n",
    "y_xgb= xgb.predict(X_test[new_features.index])\n",
    "r2_score(y_test, y_xgb)"
   ]
  },
  {
   "cell_type": "code",
   "execution_count": null,
   "metadata": {},
   "outputs": [],
   "source": []
  },
  {
   "cell_type": "code",
   "execution_count": 130,
   "metadata": {},
   "outputs": [],
   "source": [
    "#For task 3, our highest r2 score is 0.71 using a Random Forest Regressor with only top 20 features "
   ]
  },
  {
   "cell_type": "code",
   "execution_count": null,
   "metadata": {},
   "outputs": [],
   "source": []
  }
 ],
 "metadata": {
  "kernelspec": {
   "display_name": "Python 3",
   "language": "python",
   "name": "python3"
  },
  "language_info": {
   "codemirror_mode": {
    "name": "ipython",
    "version": 3
   },
   "file_extension": ".py",
   "mimetype": "text/x-python",
   "name": "python",
   "nbconvert_exporter": "python",
   "pygments_lexer": "ipython3",
   "version": "3.6.5"
  }
 },
 "nbformat": 4,
 "nbformat_minor": 2
}
